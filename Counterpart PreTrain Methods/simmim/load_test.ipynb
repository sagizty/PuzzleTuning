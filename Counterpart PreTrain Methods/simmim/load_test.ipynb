{
 "cells": [
  {
   "cell_type": "code",
   "execution_count": 1,
   "metadata": {},
   "outputs": [
    {
     "name": "stderr",
     "output_type": "stream",
     "text": [
      "/root/miniconda3/envs/SimMIM/lib/python3.9/site-packages/tqdm/auto.py:21: TqdmWarning: IProgress not found. Please update jupyter and ipywidgets. See https://ipywidgets.readthedocs.io/en/stable/user_install.html\n",
      "  from .autonotebook import tqdm as notebook_tqdm\n"
     ]
    },
    {
     "name": "stdout",
     "output_type": "stream",
     "text": [
      "Saving backbone init weight to ./model_base...\n"
     ]
    }
   ],
   "source": [
    "from load_vit_from_ckpt import gen_basic_weight\n",
    "import os\n",
    "\n",
    "\n",
    "base_weight_pth = './model_base'\n",
    "gen_basic_weight(base_weight_pth)"
   ]
  }
 ],
 "metadata": {
  "kernelspec": {
   "display_name": "SimMIM",
   "language": "python",
   "name": "python3"
  },
  "language_info": {
   "codemirror_mode": {
    "name": "ipython",
    "version": 3
   },
   "file_extension": ".py",
   "mimetype": "text/x-python",
   "name": "python",
   "nbconvert_exporter": "python",
   "pygments_lexer": "ipython3",
   "version": "3.9.16"
  },
  "orig_nbformat": 4,
  "vscode": {
   "interpreter": {
    "hash": "be8d61690b9c27505fb56c69c6c249490f4cb538c6e1d60f116d2e57d82ff881"
   }
  }
 },
 "nbformat": 4,
 "nbformat_minor": 2
}
